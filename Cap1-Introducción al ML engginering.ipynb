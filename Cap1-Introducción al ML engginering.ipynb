{
 "cells": [
  {
   "cell_type": "markdown",
   "id": "463fdac8",
   "metadata": {},
   "source": [
    "**Tabla de contenido** \n",
    "\n",
    "- [Introducción al ML engginering](#Introduccion-al-ML-engginering)\n",
    "    - [Requerimientos técnicos](#Requerimientos-tecnicos)\n",
    "    - [Definiendo una taxonomía de disciplinas de datos](#Definiendo-una-taxonomia-de-disciplinas-de-datos)\n",
    "        - [Data scientist](#Data-scientist)\n",
    "        - [ML engineer](#Ml-engineer)\n",
    "        - [Data engginer](#Data-engginer)\n",
    "    - [Formando tu equipo](#Formando-tu-equipo)\n",
    "    - [ML engginer en el mundo real](#ml-engginer-en-el-mundo-real)\n",
    "    - [¿Cómo se ve una solución de ML?](#Como-se-ve-una-solucion-de-ML)\n",
    "    - [¿Por qué Python?](#Por-que-python)\n",
    "    - [Diseño de sistemas de ML de alto nivel](#Diseno-de-sistemas-de-ML-de-alto-nivel)\n",
    "    - [Resumen](#Resumen)"
   ]
  },
  {
   "cell_type": "markdown",
   "id": "3e586aa3",
   "metadata": {},
   "source": [
    "# Introduccion al ML engginering"
   ]
  },
  {
   "cell_type": "markdown",
   "id": "834c4986",
   "metadata": {},
   "source": [
    "`Bienvenido a Ingeniería de Aprendizaje Automático con Python, un libro que tiene como objetivo introducirte en el emocionante mundo de hacer que los sistemas de Aprendizaje Automático (ML) estén listos para producción.`\n",
    "\n",
    "Este libro te llevará a través de una serie de capítulos que cubren sistemas de entrenamiento, soluciones en escala, diseño de sistemas, seguimiento de modelos y una variedad de otros temas, para prepararte para tu propio trabajo en ingeniería de ML o para trabajar con otros en este ámbito. Ningún libro puede ser exhaustivo sobre este tema, así que este se centrará en conceptos y ejemplos que considero cubren los principios fundamentales de esta disciplina cada vez más importante.\n",
    "\n",
    "Obtendrás mucho de este libro incluso si no ejecutas los ejemplos técnicos, o incluso si intentas aplicar los puntos principales en otros lenguajes de programación o con diferentes herramientas. Al abordar los principios clave, el objetivo es que salgas de este libro sintiéndote más seguro para enfrentar tus propios desafíos de ingeniería de ML, sea cual sea tu conjunto de herramientas elegido.\n",
    "\n",
    "En este primer capítulo, aprenderás sobre los diferentes tipos de roles de datos relevantes para la ingeniería de ML y cómo diferenciarlos; cómo utilizar este conocimiento para construir y trabajar en equipos apropiados; algunos de los puntos clave a recordar al construir productos de ML funcionales en el mundo real; cómo comenzar a aislar problemas apropiados para soluciones de ML ingenieras; y cómo crear tus propios diseños de sistemas de ML de alto nivel para una variedad de problemas comerciales típicos.\n",
    "\n",
    "Cubriremos todos estos aspectos en las siguientes secciones: \n",
    "\n",
    "- Definición de una taxonomía de disciplinas de datos \n",
    "- Formación de su equipo Ingeniería de ML en el mundo real \n",
    "- ¿Cómo se ve una solución de ML? \n",
    "- Diseño de sistema de ML a alto nivel\n",
    "\n",
    "Ahora que hemos explicado qué es lo que estamos buscando en este primer capítulo, ¡comencemos!"
   ]
  },
  {
   "cell_type": "markdown",
   "id": "3a06d18f",
   "metadata": {},
   "source": [
    "## Requerimientos tecnicos"
   ]
  },
  {
   "cell_type": "markdown",
   "id": "89b950b2",
   "metadata": {},
   "source": [
    "A lo largo del libro, asumiremos que Python 3 está instalado y funcionando. Los siguientes paquetes de Python se utilizan en este capítulo:\n",
    "\n",
    "- Scikit-learn \n",
    "- NumPy\n",
    "- pandas\n",
    "- imblearn\n",
    "- Prophet"
   ]
  },
  {
   "cell_type": "markdown",
   "id": "e56a42ee",
   "metadata": {},
   "source": [
    "## Definiendo una taxonomia de disciplinas de datos"
   ]
  },
  {
   "cell_type": "markdown",
   "id": "7dc6b167",
   "metadata": {},
   "source": [
    "La explosión de datos y las posibles aplicaciones de esos datos en los últimos años han llevado a una proliferación de roles y responsabilidades laborales. El debate que antes se centraba en cómo un científico de datos era diferente de un estadístico ahora se ha vuelto extremadamente complejo. Sin embargo, argumentaría que no tiene por qué ser tan complicado. Las actividades que deben llevarse a cabo para obtener valor de los datos son bastante consistentes, sin importar en qué sector empresarial te encuentres, por lo que debería ser razonable esperar que las habilidades y roles que necesitas para realizar estos pasos también sean relativamente consistentes. En este capítulo, exploraremos algunas de las principales disciplinas de datos que creo que siempre necesitarás en cualquier proyecto de datos. Como puedes suponer, dado el nombre de este libro, tendré un interés particular en explorar la noción de ingeniería de ML y cómo esto encaja en el conjunto.\n",
    "\n",
    "Ahora veamos algunos de los roles involucrados en el uso de datos en el panorama moderno."
   ]
  },
  {
   "cell_type": "markdown",
   "id": "a3745170",
   "metadata": {},
   "source": [
    "### Data scientist"
   ]
  },
  {
   "cell_type": "markdown",
   "id": "c600d250",
   "metadata": {},
   "source": [
    "Desde que la Harvard Business Review declaró que ser científico de datos era el trabajo más sexy del siglo XXI (https://hbr.org/2012/10/data-scientist-the-sexiest-job-of-the-21st-century), este título se ha convertido en uno de los más codiciados, pero también exagerados, en la mezcla. Un científico de datos puede abarcar todo un espectro de tareas, habilidades y responsabilidades, dependiendo del sector empresarial, la organización o incluso solo de preferencias personales. Sin embargo, sea cual sea la definición de este rol, hay algunas áreas clave de enfoque que siempre deberían formar parte del perfil laboral del científico de datos:\n",
    "\n",
    "- **Análisis**: Un científico de datos debería ser capaz de manejar, limpiar, manipular y consolidar conjuntos de datos antes de realizar cálculos sobre esos datos que nos ayuden a entenderlo. El análisis es un término amplio, pero está claro que el resultado final es el conocimiento de tu conjunto de datos que no tenías antes de comenzar, sin importar cuán básico o complejo sea.\n",
    "- **Modelado**: Lo que emociona a todos (potencialmente a ti también, querido lector) es la idea de modelar datos. Un científico de datos generalmente debe ser capaz de aplicar modelos estadísticos, matemáticos y de aprendizaje automático a los datos para explicarlos o realizar algún tipo de predicción.\n",
    "- **Trabajando con el cliente o usuario**: El rol de ciencia de datos generalmente tiene algunos elementos más orientados al negocio para que los resultados de los pasos 1 y 2 puedan apoyar la toma de decisiones en la organización. Esto podría hacerse presentando los resultados del análisis en PowerPoints o en cuadernos de Jupyter, o incluso enviando un correo electrónico con un resumen de los resultados clave. Implica comunicación y perspicacia empresarial de una manera que va más allá de los roles tecnológicos clásicos."
   ]
  },
  {
   "cell_type": "markdown",
   "id": "cf172b2d",
   "metadata": {},
   "source": [
    "### ML engineer"
   ]
  },
  {
   "cell_type": "markdown",
   "id": "b6446933",
   "metadata": {},
   "source": [
    "Un nuevo chico en el barrio, y de hecho el tema de este libro, es el ingeniero de ML. Este rol ha surgido para llenar la brecha percibida entre el análisis y la modelización de la ciencia de datos y el mundo de los productos de software y la ingeniería de sistemas robustos.\n",
    "\n",
    "Puedes articular la necesidad de este tipo de rol de manera bastante clara considerando un asistente de voz clásico. En este caso, un científico de datos generalmente se centraría en traducir los requisitos comerciales en un modelo funcional de conversión de voz a texto, potencialmente una red neuronal muy compleja, y demostrar que puede realizar la tarea de transcripción de voz deseada en principio. La ingeniería de aprendizaje automático se trata entonces de cómo tomar ese modelo de conversión de voz a texto y convertirlo en un producto, servicio o herramienta que se pueda utilizar en producción.\n",
    "\n",
    "Aquí, puede significar construir algún software para entrenar, reentrenar, implementar y rastrear el rendimiento del modelo a medida que se acumula más datos de transcripción, o se comprenden las preferencias del usuario. También puede implicar entender cómo interfazar con otros sistemas y cómo proporcionar los resultados del modelo en los formatos apropiados, por ejemplo, interactuando con una tienda online.\n",
    "\n",
    "Los científicos de datos y los ingenieros de aprendizaje automático tienen muchas habilidades y competencias superpuestas, pero tienen diferentes áreas de enfoque y fortalezas (más sobre esto más adelante), por lo que generalmente formarán parte del mismo equipo de proyecto y pueden tener cualquiera de los títulos, pero será claro qué papel están desempeñando según lo que hagan en ese proyecto.\n",
    "\n",
    "Similar al científico de datos, podemos definir las áreas clave de enfoque para el ingeniero de ML:\n",
    "\n",
    "- Traducción: Tomar modelos y código de investigación en una variedad de formatos y traducir esto en piezas de código más elegantes y robustas. Esto podría hacerse utilizando programación orientada a objetos, programación funcional, una mezcla, o algo más, pero básicamente ayuda a tomar el trabajo de Prueba de Concepto del científico de datos y convertirlo en algo que esté mucho más cerca de ser confiable en un entorno de producción.\n",
    "\n",
    "- Arquitectura: Los despliegues de cualquier pieza de software no ocurren en un vacío y siempre implicarán muchas partes integradas. Esto también es cierto para las soluciones de aprendizaje automático. El ingeniero de ML debe entender cómo las herramientas y procesos apropiados se vinculan para que los modelos creados con el científico de datos puedan hacer su trabajo y hacerlo a gran escala.\n",
    "\n",
    "- Producción: El ingeniero de ML se centra en ofrecer una solución y, por lo tanto, debe entender los requisitos del cliente a la perfección, así como ser capaz de comprender lo que eso significa para el desarrollo del proyecto. El objetivo final del ingeniero de ML no es proporcionar un buen modelo (aunque eso es parte de ello), ni es proporcionar algo que funcione básicamente. Su trabajo es asegurarse de que el arduo trabajo en el lado de la ciencia de datos genere el máximo valor potencial en un entorno del mundo real.\n"
   ]
  },
  {
   "cell_type": "markdown",
   "id": "50e854db",
   "metadata": {},
   "source": [
    "### Data engginer"
   ]
  },
  {
   "cell_type": "markdown",
   "id": "efb89a6c",
   "metadata": {},
   "source": [
    "Las personas más importantes en cualquier equipo de datos (en mi opinión) son aquellas que son responsables de llevar la materia prima en la que se basa todo lo demás en las secciones anteriores de A a B con alta fidelidad, latencia apropiada y con el menor esfuerzo posible por parte de los demás miembros del equipo. No puedes crear ningún tipo de producto de software, ni hablar de un producto de aprendizaje automático, sin datos.\n",
    "\n",
    "Las áreas clave de enfoque para un ingeniero de datos son las siguientes:\n",
    "\n",
    "- Calidad: Transferir datos de A a B es un ejercicio sin sentido si los datos están desordenados, faltan campos, o los identificadores están equivocados. Al ingeniero de datos le importa evitar esto y utiliza una variedad de técnicas y herramientas, generalmente para asegurarse de que los datos que salieron del sistema fuente son los que llegan a tu capa de almacenamiento de datos.\n",
    "- Estabilidad: Similar al punto anterior sobre la calidad, si los datos van de A a B pero solo lo hacen cada segundo miércoles si no es un día lluvioso, ¿cuál es el sentido? Los ingenieros de datos dedican mucho tiempo y esfuerzo y utilizan sus considerables habilidades para garantizar que los pipelines de datos sean robustos, confiables y se pueda confiar en que entregarán cuando se prometió.\n",
    "- Estabilidad: Similar al punto anterior sobre la calidad, si los datos pasan de A a B pero solo lo hacen cada segundo miércoles si no es un día lluvioso, ¿cuál es el sentido? Los ingenieros de datos dedican mucho tiempo y esfuerzo y utilizan sus considerables habilidades para asegurar que los canales de datos sean robustos, fiables y se puedan confiar para entregar lo prometido.\n",
    "- Acceso: Finalmente, el objetivo de llevar los datos de A a B es que sean utilizados por aplicaciones, análisis y modelos de aprendizaje automático, por lo que la naturaleza de B es importante. El ingeniero de datos tendrá a su disposición una variedad de tecnologías para permitir el acceso a los datos y debe trabajar con los consumidores de datos (nuestros científicos de datos e ingenieros de aprendizaje automático, entre otros) para definir y crear modelos de datos apropiados dentro de estas soluciones.\n",
    "\n",
    "Como se mencionó anteriormente, este libro se centra en el trabajo del ingeniero de ML y cómo puedes aprender algunas de las habilidades útiles para ese rol, pero siempre es importante recordar que no estarás trabajando en un vacío. Siempre ten en cuenta los perfiles de los otros roles (y muchos más no cubiertos aquí que existirán en tu equipo de proyecto) para que trabajen juntos de la manera más efectiva. ¡Después de todo, los datos son un deporte de equipo!"
   ]
  },
  {
   "cell_type": "markdown",
   "id": "5be9b533",
   "metadata": {},
   "source": [
    "## Formando tu equipo"
   ]
  },
  {
   "cell_type": "markdown",
   "id": "1e77bbb3",
   "metadata": {},
   "source": [
    "No hay reglas establecidas sobre cómo deberías reunir un equipo para tu proyecto de aprendizaje automático, pero hay algunos buenos principios generales a seguir y trampas que evitar. Primero, ten siempre presente que los unicornios no existen. Puedes encontrar algunas personas muy talentosas, pero nunca pienses que una sola persona puede hacer todo lo que necesitarás al nivel que requieres. Esto no solo es un poco poco realista; es una mala práctica y impactará negativamente la calidad de tus productos. Incluso cuando te faltan recursos de manera severa, la clave es que los miembros de tu equipo tengan un enfoque claro y decidido para tener éxito.\n",
    "\n",
    "En segundo lugar, lo mejor es lo combinado. Todos conocemos los beneficios de la diversidad para las organizaciones y los equipos en general, y esto, por supuesto, debería aplicarse también a tu equipo de aprendizaje automático. Dentro de un proyecto, necesitarás matemáticas, código, ingeniería, gestión de proyectos, comunicación y una variedad de otras habilidades para tener éxito. Así que, dado el punto anterior, asegúrate de cubrir esto en al menos algún sentido en tu equipo.\n",
    "\n",
    "En tercer lugar, vincula la estructura de tu equipo a tus proyectos de manera dinámica. Si estás trabajando en un proyecto que se trata principalmente de colocar los datos en el lugar correcto y los modelos de aprendizaje automático son realmente simples, enfoca el perfil de tu equipo en los aspectos de ingeniería y modelado de datos. Si el proyecto requiere un entendimiento detallado del modelo y es bastante complejo, entonces reposiciona a tu equipo para asegurarte de que esto esté cubierto. Esto es simplemente sensato y libera a los miembros del equipo que, de otro modo, habrían estado infrautilizados para trabajar en otros proyectos.\n",
    "\n",
    "Como ejemplo, suponga que se le ha asignado la tarea de construir un sistema que clasifica los datos de los clientes a medida que llegan a su nuevo y reluciente lago de datos, y se ha tomado la decisión de que esto debe hacerse en el punto de ingestión a través de una aplicación de streaming. La clasificación ya se ha construido para otro proyecto. Ya está claro que esta solución implicará en gran medida las habilidades del ingeniero de datos y del ingeniero de ML, pero no tanto del científico de datos, ya que esa parte del trabajo se ha completado en otro proyecto.\n",
    "\n",
    "En la siguiente sección, veremos algunos puntos importantes a considerar al desplegar a su equipo en un problema de negocio del mundo real."
   ]
  },
  {
   "cell_type": "markdown",
   "id": "aa01bbf1",
   "metadata": {},
   "source": [
    "## ML engginer en el mundo real"
   ]
  },
  {
   "cell_type": "markdown",
   "id": "ff1d41d8",
   "metadata": {},
   "source": [
    "La mayoría de nosotros que trabajamos en aprendizaje automático, análisis y disciplinas relacionadas lo hacemos para empresas con fines de lucro. Por lo tanto, es importante que consideremos algunos de los aspectos importantes de hacer este tipo de trabajo en el mundo real.\n",
    "\n",
    "En primer lugar, el objetivo final de tu trabajo es generar valor. Esto se puede calcular y definir de varias maneras, pero fundamentalmente tu trabajo tiene que mejorar algo para la empresa o sus clientes de una manera que justifique la inversión realizada. Por esta razón, la mayoría de las empresas no estarán contentas de que pases un año jugando con nuevas herramientas y luego no generes nada concreto para mostrarlo (no es que tú vayas a hacer esto de todos modos, probablemente sea bastante aburrido) o de pasar tus días leyendo los últimos artículos y solo leyendo los últimos artículos.\n",
    "\n",
    "Sí, estas cosas son parte de cualquier trabajo en tecnología, y especialmente de cualquier trabajo en el mundo del aprendizaje automático, pero debes ser estratégico sobre cómo gastas tu tiempo y siempre estar consciente de tu propuesta de valor.\n",
    "\n",
    "En segundo lugar, para ser un ingeniero de ML exitoso en el mundo real, no solo debes entender la tecnología; debes entender el negocio. Tendrás que comprender cómo funciona la empresa día a día, tendrás que entender cómo encajan las diferentes partes de la empresa, y tendrás que comprender a las personas de la empresa y sus roles. Lo más importante es que debes entender al cliente, tanto del negocio como de tu trabajo. Si no conoces las motivaciones, dolores y necesidades de las personas para las que estás construyendo, ¿cómo se puede esperar que construyas lo correcto?\n",
    "\n",
    "Finalmente, y esto puede ser controvertido, la habilidad más importante para que seas un ingeniero de ML exitoso en el mundo real es una que este libro no te enseñará, y esa es la capacidad de comunicarte de manera efectiva. Tendrás que trabajar en equipo, con un gerente, con la comunidad y el negocio en general, y, por supuesto, con tus clientes, como se mencionó anteriormente. Si puedes hacer esto y conoces la tecnología y las técnicas (muchas de las cuales se discuten en este libro), entonces, ¿qué puede detenerte?\n",
    "\n",
    "Pero, ¿qué tipo de problemas puedes resolver con el aprendizaje automático cuando trabajas en el mundo real? Bueno, comencemos con otra afirmación potencialmente controvertida: muchas veces, el aprendizaje automático no es la respuesta. Esto puede parecer extraño dado el título de este libro, pero es igualmente importante saber cuándo no aplicar el aprendizaje automático como cuándo aplicarlo. Esto te ahorrará mucho tiempo y recursos de desarrollo costosos.\n",
    "\n",
    "El aprendizaje automático es ideal para casos en los que deseas realizar una tarea semirutinaria más rápido, con más precisión o a una escala mucho mayor de lo que es posible con otras soluciones. Algunos ejemplos típicos se presentan en la siguiente tabla, junto con una discusión sobre si el aprendizaje automático sería una herramienta apropiada para resolver el problema:\n",
    "\n",
    "| Requerimiento                                | ¿Es ML apropiado? | Detalles                                                                                              |\n",
    "|----------------------------------------------|-------------------|------------------------------------------------------------------------------------------------------|\n",
    "| Detección de anomalías en señales de precios de energía | Sí                | Querrás hacer esto sobre un gran número de puntos en señales de tiempo potencialmente variables.      |\n",
    "| Mejorar la calidad de datos en un sistema ERP | No                | Esto suena más a un problema de proceso. Puedes intentar aplicar ML, pero a menudo es mejor automatizar la entrada de datos o hacer el proceso más robusto. |\n",
    "| Pronóstico de consumo de ítems en un almacén  | Sí                | ML podrá hacer esto con mayor precisión que un humano, por lo que es un buen caso de aplicación.      |\n",
    "| Resumir datos para revisiones de negocio      | Tal vez           | Esto puede ser necesario a gran escala, pero no es un problema de ML; consultas simples contra los datos bastarán. |\n",
    "\n",
    "Como esta tabla de ejemplos simples espera empezar a aclarar, los casos en los que el aprendizaje automático es la respuesta son aquellos que generalmente pueden ser bien enmarcados como un problema matemático o estadístico. Después de todo, esto es lo que realmente es el aprendizaje automático; una serie de algoritmos enraizados en matemáticas que pueden iterar algunos parámetros internos basados en datos. Donde las líneas comienzan a desdibujarse en el mundo moderno es a través de avances en áreas como el aprendizaje profundo o el aprendizaje por refuerzo, donde problemas que antes pensamos que serían muy difíciles de expresar apropiadamente para algoritmos de aprendizaje automático estándar ahora pueden ser abordados.\n",
    "\n",
    "La otra tendencia a tener en cuenta en el mundo real (junto con el uso de ML para todo) es la preocupación que tienen las personas de que el ML está llegando por sus trabajos y no debería ser confiable. Esto es comprensible: un informe de PwC en 2018 sugirió que el 30% de los trabajos en el Reino Unido se verán afectados por la automatización para la década de 2030 (¿Robots realmente robarán nuestros trabajos?: https://www.pwc.co.uk/economic-services/assets/international-impact-of-automation-feb-2018.pdf). Lo que tienes que tratar de dejar claro al trabajar con tus colegas y clientes es que lo que estás construyendo está allí para complementar y aumentar sus capacidades, no para reemplazarlos.\n",
    "\n",
    "Concluyamos esta sección revisitando un punto importante: el hecho de que trabajes para una empresa significa, por supuesto, que el objetivo del juego es crear valor adecuado a la inversión. En otras palabras, necesitas demostrar un buen Retorno de la Inversión (ROI). Esto significa un par de cosas para ti en la práctica:\n",
    "\n",
    "- Tienes que entender cómo los diferentes diseños requieren diferentes niveles de inversión. Si puedes resolver tu problema entrenando una red neuronal profunda con un millón de imágenes en una GPU funcionando 24/7 durante un mes, o sabes que puedes resolver el mismo problema con un poco de agrupamiento básico y un poco de estadísticas en un hardware estándar en unas pocas horas, ¿cuál deberías elegir?\n",
    "- Debes tener claro el valor que generarás. Esto significa que necesitas trabajar con expertos y tratar de traducir los resultados de tu algoritmo en valores reales en dólares. Esto es mucho más difícil de lo que parece, así que deberías tomarte el tiempo necesario para hacerlo bien. Y nunca, nunca hagas promesas exageradas. Siempre debes prometer menos y entregar más.\n",
    "\n",
    "La adopción no está garantizada. Incluso al crear productos para tus colegas dentro de una empresa, es importante entender que tu solución será probada cada vez que alguien la use después de su implementación. Si construyes soluciones de mala calidad, la gente no las usará, y la propuesta de valor de lo que has hecho comenzará a desaparecer.\n",
    "\n",
    "Ahora que entiendes algunos de los puntos importantes al usar ML para resolver problemas empresariales, exploremos cómo pueden lucir estas soluciones.\n",
    "\n"
   ]
  },
  {
   "cell_type": "markdown",
   "id": "32784690",
   "metadata": {},
   "source": [
    "## Como se ve una solucion de ML"
   ]
  },
  {
   "cell_type": "markdown",
   "id": "ce98edc4",
   "metadata": {},
   "source": [
    "Cuando piensas en la ingeniería de ML, podrías caer en la trampa de imaginar que se trabaja únicamente en asistentes de voz y aplicaciones de reconocimiento visual (yo caí en esta trampa en páginas anteriores, ¿te diste cuenta?). Sin embargo, el poder del ML radica en que donde hay datos y un problema adecuado, puede ayudar y ser integral para la solución.\n",
    "\n",
    "Algunos ejemplos podrían ayudar a aclarar esto. Cuando envías un mensaje de texto y tu teléfono sugiere las siguientes palabras, a menudo está utilizando un modelo de lenguaje natural en segundo plano. Cuando desplazas cualquier feed de redes sociales o ves un servicio de streaming, los algoritmos de recomendación están trabajando a doble tiempo. Si realizas un viaje en coche y una aplicación pronostica cuándo es probable que llegues a tu destino, habrá algún tipo de regresión en funcionamiento. Tu solicitud de préstamo a menudo resulta en que tus características y detalles de la solicitud sean procesados por un clasificador. Estas aplicaciones no son las que se mencionan en las noticias (quizás con la excepción de cuando ocurren desastres), pero son todos ejemplos de una ingeniería de ML brillantemente elaborada.\n",
    "\n",
    "En este libro, los ejemplos que analizaremos serán más como estos; escenarios típicos de aprendizaje automático que se encuentran en productos y negocios todos los días. Estas son soluciones que, si puedes construirlas con confianza, te convertirán en un activo para cualquier organización. Deberíamos comenzar considerando los elementos generales que deberían constituir cualquier solución de aprendizaje automático, como se indica en el siguiente diagrama:\n",
    "\n",
    "- surface\n",
    "- compute\n",
    "- storage\n",
    "\n",
    "\n",
    "Tu capa de almacenamiento constituye el punto final del proceso de ingeniería de datos y el comienzo del de ML. Incluye tus datos para entrenamiento, los resultados de la ejecución de tus modelos, tus artefactos y metadatos importantes. También podemos considerar que esto incluye tu código almacenado.\n",
    "\n",
    "La capa de cómputo es donde sucede la magia y donde se enfoca la mayor parte de este libro. Es donde se llevan a cabo (en su mayoría) el entrenamiento, la prueba, la predicción y la transformación. Este libro trata sobre hacer que esta capa esté tan bien diseñada como sea posible e interfacing con las otras capas. \n",
    "\n",
    "La capa de presentación es donde compartes los resultados de tu solución de aprendizaje automático con otros sistemas. Esto podría ser a través de cualquier cosa, desde la inserción de base de datos de aplicaciones hasta puntos finales de API, colas de mensajes, o herramientas de visualización. Esta es la capa a través de la cual tu cliente finalmente podrá utilizar los resultados, por lo que debes diseñar tu sistema para proporcionar salidas limpias y comprensibles, algo de lo que hablaremos más adelante.\n",
    "\n",
    "Y eso es todo en pocas palabras. Abordaremos en detalle todas estas capas y puntos más adelante, pero por ahora, solo recuerda estos conceptos generales y comenzarás a entender cómo encajan todas las piezas técnicas detalladas.\n",
    "\n"
   ]
  },
  {
   "cell_type": "markdown",
   "id": "fd0ba729",
   "metadata": {},
   "source": [
    "## Por que Python"
   ]
  },
  {
   "cell_type": "markdown",
   "id": "4d47332c",
   "metadata": {},
   "source": [
    "Antes de pasar a temas más detallados, es importante discutir por qué se ha elegido Python como el lenguaje de programación para este libro. Todo lo que sigue en relación con temas de nivel superior, como la arquitectura y el diseño de sistemas, se puede aplicar a soluciones que utilicen uno o varios lenguajes, pero Python se ha destacado aquí por algunas razones.\n",
    "\n",
    "Python es coloquialmente conocido como la lengua franca de los datos. Es un lenguaje de programación no compilado, no fuertemente tipado y multiparadigma que tiene una sintaxis clara y simple. Su ecosistema de herramientas también es extenso, especialmente en el espacio de análisis y aprendizaje automático. Paquetes como scikit-learn, numpy, scipy y muchos otros forman la columna vertebral de una gran cantidad de desarrollo técnico y científico en todo el mundo. Casi cada nueva biblioteca de software importante para su uso en el mundo de los datos tiene una API de Python. Es el tercer lenguaje de programación más popular del mundo, según el índice TIOBE (https://www.tiobe.com/tiobe-index/) en el momento de escribir esto (enero de 2021).\n",
    "\n",
    "Dado esto, poder construir tus sistemas utilizando Python significa que podrás aprovechar todas las excelentes herramientas de aprendizaje automático y ciencia de datos disponibles en este ecosistema, al mismo tiempo que aseguras que construyes aplicaciones que pueden funcionar bien con otro software.\n"
   ]
  },
  {
   "cell_type": "markdown",
   "id": "9de012c8",
   "metadata": {},
   "source": [
    "## Diseno de sistemas de ML de alto nivel"
   ]
  },
  {
   "cell_type": "markdown",
   "id": "c24e1d57",
   "metadata": {},
   "source": [
    "Cuando se trata de los aspectos básicos de construir su solución, hay tantas opciones de herramientas, tecnología y enfoques que puede ser muy fácil sentirse abrumado. Sin embargo, como se mencionó en las secciones anteriores, gran parte de esta complejidad puede ser abstraída para entender el panorama general a través de una arquitectura y diseños a grandes rasgos. Este siempre es un ejercicio útil una vez que sabe qué problema va a intentar resolver, y es algo que recomiendo hacer antes de tomar cualquier decisión detallada sobre la implementación.\n",
    "\n",
    "Para darte una idea de cómo funciona esto en la práctica, lo que sigue son algunos ejemplos resueltos donde un equipo tiene que crear un diseño de sistemas de ML de alto nivel para algunos problemas comerciales típicos. Estos problemas son similares a los que he encontrado antes y probablemente serán similares a los que encontrarás en tu propio trabajo.\n"
   ]
  },
  {
   "cell_type": "markdown",
   "id": "46ee0958",
   "metadata": {},
   "source": [
    "## Resumen"
   ]
  },
  {
   "cell_type": "markdown",
   "id": "090d4cfd",
   "metadata": {},
   "source": [
    "En este capítulo, hemos introducido la idea de la ingeniería de ML y cómo se integra dentro de un equipo moderno que construye soluciones valiosas basadas en datos. Se discutió cómo el enfoque de la ingeniería de ML es complementario a las fortalezas de la ciencia de datos y la ingeniería de datos, y donde estas disciplinas se superponen. Se hicieron algunos comentarios sobre cómo utilizar esta información para ensamblar un equipo adecuadamente dotado de recursos para tus proyectos.\n",
    "\n",
    "Los desafíos de construir productos de aprendizaje automático en organizaciones modernas del mundo real fueron discutidos, junto con consejos para ayudarte a superar algunos de estos desafíos. En particular, se enfatizó la noción de estimar razonablemente el valor y comunicarte efectivamente con tus partes interesadas.\n",
    "\n",
    "Este capítulo concluyó con un adelanto del contenido técnico que vendrá en capítulos posteriores, en particular, a través de una discusión sobre cómo son las soluciones típicas de aprendizaje automático y cómo deben ser diseñadas (a un alto nivel) para algunos casos de uso comunes.\n",
    "\n",
    "El próximo capítulo se centrará en cómo configurar e implementar tus procesos de desarrollo para construir las soluciones de ML que deseas y ofrecerá información sobre cómo esto es diferente de los procesos de desarrollo de software estándar. Luego habrá una discusión sobre algunas de las herramientas que puedes usar para comenzar a gestionar las tareas y artefactos de tus proyectos sin crear grandes dolores de cabeza. Esto te preparará para los detalles técnicos de cómo construir los elementos clave de tus soluciones de ML en capítulos posteriores."
   ]
  }
 ],
 "metadata": {
  "kernelspec": {
   "display_name": "Series_TF",
   "language": "python",
   "name": "python3"
  },
  "language_info": {
   "name": "python",
   "version": "3.12.9"
  }
 },
 "nbformat": 4,
 "nbformat_minor": 5
}
